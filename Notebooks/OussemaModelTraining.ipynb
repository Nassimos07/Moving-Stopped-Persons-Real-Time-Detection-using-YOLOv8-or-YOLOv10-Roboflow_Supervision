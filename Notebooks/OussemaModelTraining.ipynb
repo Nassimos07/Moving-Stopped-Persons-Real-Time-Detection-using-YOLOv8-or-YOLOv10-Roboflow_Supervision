{
  "nbformat": 4,
  "nbformat_minor": 0,
  "metadata": {
    "colab": {
      "private_outputs": true,
      "provenance": [],
      "gpuType": "A100"
    },
    "kernelspec": {
      "name": "python3",
      "display_name": "Python 3"
    },
    "language_info": {
      "name": "python"
    },
    "accelerator": "GPU"
  },
  "cells": [
    {
      "cell_type": "markdown",
      "source": [
        "# Setup"
      ],
      "metadata": {
        "id": "ApgKdTH08hKq"
      }
    },
    {
      "cell_type": "code",
      "execution_count": null,
      "metadata": {
        "id": "1Qvy4ohqlq6P"
      },
      "outputs": [],
      "source": [
        "%pip install ultralytics  # install\n",
        "from IPython import display\n",
        "display.clear_output()"
      ]
    },
    {
      "cell_type": "code",
      "source": [
        "%pip install roboflow\n",
        "display.clear_output()"
      ],
      "metadata": {
        "id": "pd0BMtZWl5_C"
      },
      "execution_count": null,
      "outputs": []
    },
    {
      "cell_type": "code",
      "source": [
        "import os\n",
        "import shutil\n",
        "import numpy as np\n",
        "import yaml\n",
        "from roboflow import Roboflow\n",
        "from ultralytics import YOLO, checks, hub\n",
        "checks()  # checks"
      ],
      "metadata": {
        "id": "8-nSh-0xmCMP"
      },
      "execution_count": null,
      "outputs": []
    },
    {
      "cell_type": "markdown",
      "source": [
        "# Download the dataset from Roboflow"
      ],
      "metadata": {
        "id": "JBoj3gjX8kAK"
      }
    },
    {
      "cell_type": "code",
      "source": [
        "\n",
        "rf = Roboflow(api_key=\"GUyQ3AAXqI8TVMfBCT4d\")\n",
        "project = rf.workspace(\"oussemaprojectdetection\").project(\"aerport_objects\")\n",
        "dataset = project.version(3).download(\"yolov8\")"
      ],
      "metadata": {
        "id": "sEwTGN3x0dsj"
      },
      "execution_count": null,
      "outputs": []
    },
    {
      "cell_type": "markdown",
      "source": [
        "# Import the model architecture"
      ],
      "metadata": {
        "id": "rKUyJI_88wls"
      }
    },
    {
      "cell_type": "code",
      "source": [
        "from ultralytics import YOLO\n",
        "model = YOLO(\"yolov8n.pt\")  # load a pretrained model (recommended for training)"
      ],
      "metadata": {
        "id": "N9fR7ksQvNQU"
      },
      "execution_count": null,
      "outputs": []
    },
    {
      "cell_type": "markdown",
      "source": [
        "# Correct the Train/Test/Valid paths in the *data.yaml* file"
      ],
      "metadata": {
        "id": "KO9rkchA80br"
      }
    },
    {
      "cell_type": "code",
      "source": [
        "import yaml\n",
        "\n",
        "# Read the YAML file\n",
        "with open('/content/Aerport_objects-3/data.yaml', 'r') as file:\n",
        "    data = yaml.safe_load(file)\n",
        "\n",
        "# Modify the data\n",
        "data['test'] = '/content/Aerport_objects-3/test/images'\n",
        "data['train'] = '/content/Aerport_objects-3/train/images'\n",
        "data['val'] = '/content/Aerport_objects-3/valid/images'\n",
        "# Write the modified data back to the YAML file\n",
        "with open('/content/Aerport_objects-3/data.yaml', 'w') as file:\n",
        "    yaml.safe_dump(data, file)"
      ],
      "metadata": {
        "id": "qUPH6yDk7d8J"
      },
      "execution_count": null,
      "outputs": []
    },
    {
      "cell_type": "markdown",
      "source": [
        "# Train the model with 100 epochs"
      ],
      "metadata": {
        "id": "ImMF4ezC8-OS"
      }
    },
    {
      "cell_type": "code",
      "source": [
        "model.train(data=\"/content/Aerport_objects-3/data.yaml\", epochs=100)  # train the model"
      ],
      "metadata": {
        "id": "ydlu0r0B5XYE"
      },
      "execution_count": null,
      "outputs": []
    },
    {
      "cell_type": "code",
      "source": [
        "import locale\n",
        "def getpreferredencoding(do_setlocale = True):\n",
        "    return \"UTF-8\"\n",
        "locale.getpreferredencoding = getpreferredencoding"
      ],
      "metadata": {
        "id": "rHYSSHi828eI"
      },
      "execution_count": null,
      "outputs": []
    },
    {
      "cell_type": "markdown",
      "source": [
        "# Save the training reults in GGL Drive"
      ],
      "metadata": {
        "id": "sX5iufHk9CsA"
      }
    },
    {
      "cell_type": "code",
      "source": [
        "!cp -av  '/content/runs' '/content/drive/MyDrive/Model Training'"
      ],
      "metadata": {
        "id": "X4xQxL4lNQeM"
      },
      "execution_count": null,
      "outputs": []
    }
  ]
}