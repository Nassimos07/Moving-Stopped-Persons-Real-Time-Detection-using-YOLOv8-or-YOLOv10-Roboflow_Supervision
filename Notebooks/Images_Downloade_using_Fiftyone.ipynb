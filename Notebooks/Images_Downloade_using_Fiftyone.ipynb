{
  "nbformat": 4,
  "nbformat_minor": 0,
  "metadata": {
    "colab": {
      "private_outputs": true,
      "provenance": []
    },
    "kernelspec": {
      "name": "python3",
      "display_name": "Python 3"
    },
    "language_info": {
      "name": "python"
    }
  },
  "cells": [
    {
      "cell_type": "code",
      "execution_count": null,
      "metadata": {
        "id": "qEYHHCOzRlEa"
      },
      "outputs": [],
      "source": [
        "!pip install fiftyone"
      ]
    },
    {
      "cell_type": "code",
      "source": [
        "!pip install fiftyone-db-ubuntu2204\n"
      ],
      "metadata": {
        "id": "iDRZyqVv-5o9"
      },
      "execution_count": null,
      "outputs": []
    },
    {
      "cell_type": "code",
      "source": [
        "import fiftyone as fo\n"
      ],
      "metadata": {
        "id": "olfHDQyM_E6M"
      },
      "execution_count": null,
      "outputs": []
    },
    {
      "cell_type": "code",
      "source": [
        "import fiftyone.zoo as foz\n",
        "\n",
        "# Specify the path to the dataset on disk\n",
        "dataset_dir = \"/content/persons\"\n",
        "\n",
        "\n",
        "dataset = foz.load_zoo_dataset(\n",
        "    \"coco-2017\",\n",
        "    splits=[\"train\"],\n",
        "    dataset_dir=dataset_dir,\n",
        "    classes=[\"suitcase\"],\n",
        "    max_samples=50,\n",
        ")"
      ],
      "metadata": {
        "id": "bXHcJqUxRryf"
      },
      "execution_count": null,
      "outputs": []
    },
    {
      "cell_type": "code",
      "source": [
        "!cp -av \"/content/text\" \"/content/drive/MyDrive\""
      ],
      "metadata": {
        "id": "Zzd-eflw9jKF"
      },
      "execution_count": null,
      "outputs": []
    }
  ]
}